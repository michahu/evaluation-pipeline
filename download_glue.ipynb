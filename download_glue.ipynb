{
 "cells": [
  {
   "cell_type": "code",
   "execution_count": 1,
   "metadata": {},
   "outputs": [
    {
     "name": "stderr",
     "output_type": "stream",
     "text": [
      "/ext3/miniconda3/lib/python3.11/site-packages/tqdm/auto.py:21: TqdmWarning: IProgress not found. Please update jupyter and ipywidgets. See https://ipywidgets.readthedocs.io/en/stable/user_install.html\n",
      "  from .autonotebook import tqdm as notebook_tqdm\n"
     ]
    }
   ],
   "source": [
    "from datasets import load_dataset"
   ]
  },
  {
   "cell_type": "code",
   "execution_count": 2,
   "metadata": {},
   "outputs": [
    {
     "name": "stderr",
     "output_type": "stream",
     "text": [
      "Creating json from Arrow format: 100%|██████████| 2/2 [00:00<00:00, 78.88ba/s]\n",
      "Creating json from Arrow format: 100%|██████████| 6/6 [00:00<00:00, 339.25ba/s]\n",
      "Creating json from Arrow format: 100%|██████████| 2/2 [00:00<00:00, 515.46ba/s]\n"
     ]
    }
   ],
   "source": [
    "# for dataset_name in ['mnli']:\n",
    "# for dataset_name in [\"cola\",\"sst2\",\"mrpc\",\"qqp\",\"qnli\",\"qqp\",\"rte\",\"wnli\"]:\n",
    "for dataset_name in [\"stsb\"]:\n",
    "    dataset = load_dataset(\"glue\", dataset_name)\n",
    "    dataset['validation'].to_json(f\"glue_files/{dataset_name}.validation.json\") \n",
    "    dataset['train'].to_json(f\"glue_files/{dataset_name}.train.json\") \n",
    "    dataset['test'].to_json(f\"glue_files/{dataset_name}.test.json\")  \n",
    "    # dataset['test_matched'].to_json(f\"glue_files/{dataset_name}.test_matched.json\")  \n",
    "    # \n",
    "\n",
    "# for dataset_name in ['mnli']:\n",
    "#     dataset = load_dataset(\"glue\", dataset_name)\n",
    "#     dataset['validation_mismatched'].to_json(f\"glue_files/{dataset_name}.validation_mismatched.json\") \n",
    "#     dataset['test_mismatched'].to_json(f\"glue_files/{dataset_name}.test_mismatched.json\")  \n",
    "    # dataset['train'].to_json(f\"glue_files/{dataset_name}.train.json\")    \n",
    "    # dataset['test_matched'].to_json(f\"glue_files/{dataset_name}.test_matched.json\")   "
   ]
  },
  {
   "cell_type": "code",
   "execution_count": null,
   "metadata": {},
   "outputs": [],
   "source": []
  }
 ],
 "metadata": {
  "kernelspec": {
   "display_name": "Python 3 (base)",
   "language": "python",
   "name": "base"
  },
  "language_info": {
   "codemirror_mode": {
    "name": "ipython",
    "version": 3
   },
   "file_extension": ".py",
   "mimetype": "text/x-python",
   "name": "python",
   "nbconvert_exporter": "python",
   "pygments_lexer": "ipython3",
   "version": "3.11.4"
  }
 },
 "nbformat": 4,
 "nbformat_minor": 4
}
