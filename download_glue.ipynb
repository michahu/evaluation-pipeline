{
 "cells": [
  {
   "cell_type": "code",
   "execution_count": 2,
   "metadata": {},
   "outputs": [],
   "source": [
    "from datasets import load_dataset"
   ]
  },
  {
   "cell_type": "code",
   "execution_count": 7,
   "metadata": {},
   "outputs": [
    {
     "name": "stderr",
     "output_type": "stream",
     "text": [
      "Downloading data: 100%|██████████| 10.6M/10.6M [00:00<00:00, 50.6MB/s]\n",
      "Generating train split: 100%|██████████| 104743/104743 [00:02<00:00, 40776.46 examples/s]\n",
      "Generating validation split: 100%|██████████| 5463/5463 [00:00<00:00, 41161.40 examples/s]\n",
      "Generating test split: 100%|██████████| 5463/5463 [00:00<00:00, 46258.18 examples/s]\n",
      "Creating json from Arrow format: 100%|██████████| 105/105 [00:00<00:00, 275.20ba/s]\n",
      "Creating json from Arrow format: 100%|██████████| 6/6 [00:00<00:00, 288.19ba/s]\n",
      "Downloading data: 100%|██████████| 697k/697k [00:00<00:00, 16.1MB/s]\n",
      "Generating train split: 100%|██████████| 2490/2490 [00:00<00:00, 39587.35 examples/s]\n",
      "Generating validation split: 100%|██████████| 277/277 [00:00<00:00, 33560.25 examples/s]\n",
      "Generating test split: 100%|██████████| 3000/3000 [00:00<00:00, 44598.43 examples/s]\n",
      "Creating json from Arrow format: 100%|██████████| 3/3 [00:00<00:00, 246.29ba/s]\n",
      "Creating json from Arrow format: 100%|██████████| 3/3 [00:00<00:00, 243.44ba/s]\n",
      "Downloading data: 100%|██████████| 29.0k/29.0k [00:00<00:00, 77.0MB/s]\n",
      "Generating train split: 100%|██████████| 635/635 [00:00<00:00, 40881.41 examples/s]\n",
      "Generating validation split: 100%|██████████| 71/71 [00:00<00:00, 21441.11 examples/s]\n",
      "Generating test split: 100%|██████████| 146/146 [00:00<00:00, 31761.85 examples/s]\n",
      "Creating json from Arrow format: 100%|██████████| 1/1 [00:00<00:00, 277.57ba/s]\n",
      "Creating json from Arrow format: 100%|██████████| 1/1 [00:00<00:00, 653.73ba/s]\n"
     ]
    }
   ],
   "source": [
    "# for dataset_name in ['mnli']:\n",
    "for dataset_name in [\"cola\",\"sst2\",\"mrpc\",\"qqp\",\"qnli\",\"qqp\",\"rte\",\"wnli\"]:\n",
    "    dataset = load_dataset(\"glue\", dataset_name)\n",
    "    dataset['validation'].to_json(f\"glue_files/{dataset_name}.validation.json\") \n",
    "    # dataset['train'].to_json(f\"glue_files/{dataset_name}.train.json\")    \n",
    "    # dataset['test_matched'].to_json(f\"glue_files/{dataset_name}.test_matched.json\")  \n",
    "    # \n",
    "\n",
    "for dataset_name in ['mnli']:\n",
    "    dataset = load_dataset(\"glue\", dataset_name)\n",
    "    dataset['validation_mismatched'].to_json(f\"glue_files/{dataset_name}.validation_mismatched.json\") \n",
    "    dataset['test_mismatched'].to_json(f\"glue_files/{dataset_name}.test_mismatched.json\")  \n",
    "    # dataset['train'].to_json(f\"glue_files/{dataset_name}.train.json\")    \n",
    "    # dataset['test_matched'].to_json(f\"glue_files/{dataset_name}.test_matched.json\")   "
   ]
  },
  {
   "cell_type": "code",
   "execution_count": null,
   "metadata": {},
   "outputs": [],
   "source": []
  }
 ],
 "metadata": {
  "kernelspec": {
   "display_name": "Python 3 (base)",
   "language": "python",
   "name": "base"
  },
  "language_info": {
   "codemirror_mode": {
    "name": "ipython",
    "version": 3
   },
   "file_extension": ".py",
   "mimetype": "text/x-python",
   "name": "python",
   "nbconvert_exporter": "python",
   "pygments_lexer": "ipython3",
   "version": "3.11.4"
  }
 },
 "nbformat": 4,
 "nbformat_minor": 4
}
